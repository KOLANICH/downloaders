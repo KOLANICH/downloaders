{
	"cells": [{
			"cell_type": "code",
			"execution_count": 1,
			"metadata": {},
			"outputs": [],
			"source": ["from pathlib import Path\n", "from zipfile import ZipFile\n", "\n", "from downloaders import defaultDownloader, DownloadTarget"]
		}, {
			"cell_type": "code",
			"execution_count": 2,
			"metadata": {},
			"outputs": [{
					"data": {
						"text/plain": ["True"]
					},
					"execution_count": 2,
					"metadata": {},
					"output_type": "execute_result"
				}
			],
			"source": ["resPath = Path(\"./downloaders.zip\")\n", "defaultDownloader([\n", "\tDownloadTarget(\n", "\t\t\"https://github.com/prebuilder/downloaders.py/archive/master.zip\",\n", "\t\tresPath\n", "\t),\n", "])\n", "resPath.is_file()"]
		}, {
			"cell_type": "code",
			"execution_count": 3,
			"metadata": {},
			"outputs": [{
					"name": "stdout",
					"output_type": "stream",
					"text": ["[metadata]\n", "name = downloaders\n", "version = 0.1\n", "author = KOLANICH\n", "url = https://github.com/prebuilder/downloaders.py\n", "description = \n", "long_description = file: ReadMe.md\n", "keywords = downloaders\n", "license = Unlicense\n", "classifiers =\n", "\tProgramming Language :: Python\n", "\tProgramming Language :: Python :: 3\n", "\tDevelopment Status :: 4 - Beta\n", "\tEnvironment :: Other Environment\n", "\tIntended Audience :: Developers\n", "\tLicense :: Public Domain\n", "\tLicense :: Public Domain :: Unlicense\n", "\tOperating System :: OS Independent\n", "\tTopic :: Software Development :: Libraries :: Python Modules\n", "\n", "[options]\n", "python_requires = >=3.4\n", "zip_safe = True\n", "packages = find:\n", "install_requires =\n", "\tfsutilz @ git+https://github.com/prebuilder/fsutilz.py.git\n", "\n", "setup_requires = setuptools>=44; wheel; setuptools_scm[toml]>=3.4.3\n", "\n"]
				}
			],
			"source": ["with ZipFile(resPath) as z:\n", "\tfor fi in z.filelist:\n", "\t\tif fi.filename.endswith(\"setup.cfg\"):\n", "\t\t\twith z.open(fi.filename, \"r\") as cf:\n", "\t\t\t\tprint(cf.read().decode(\"utf-8\"))"]
		}
	],
	"metadata": {
		"kernelspec": {
			"display_name": "Python 3",
			"language": "python",
			"name": "python3"
		},
		"language_info": {
			"codemirror_mode": {
				"name": "ipython",
				"version": 3
			},
			"file_extension": ".py",
			"mimetype": "text/x-python",
			"name": "python",
			"nbconvert_exporter": "python",
			"pygments_lexer": "ipython3",
			"version": "3.8.6"
		}
	},
	"nbformat": 4,
	"nbformat_minor": 4
}
